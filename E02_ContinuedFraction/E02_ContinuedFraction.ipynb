{
  "nbformat": 4,
  "nbformat_minor": 0,
  "metadata": {
    "colab": {
      "provenance": []
    },
    "kernelspec": {
      "name": "python3",
      "display_name": "Python 3"
    },
    "language_info": {
      "name": "python"
    }
  },
  "cells": [
    {
      "cell_type": "markdown",
      "source": [
        "<img src=\"https://github.com/aminizahra/ML_AI2YOU/blob/main/AI2YOU.png?raw=true\" alt=\"AI2YOU\" width=\"300\" height=\"300\">\n",
        "<h1 align=\"center\"><font size = 14>Riyazika | ریاضیکا</font></h1>\n",
        "<br>\n",
        "<h2 align=\"center\"><font size = 5>Continued Fraction</font></h2>\n",
        "<h3 align=\"center\">Zahra Amini</h3>\n",
        "<br>\n",
        "<br>\n",
        "<br>\n",
        "<br>\n",
        "<br>"
      ],
      "metadata": {
        "id": "oAfRShQNmQgY"
      }
    },
    {
      "cell_type": "markdown",
      "source": [
        "# Define a function to calculate the continued fraction for a given x"
      ],
      "metadata": {
        "id": "iW28LQBalodk"
      }
    },
    {
      "cell_type": "code",
      "execution_count": 1,
      "metadata": {
        "id": "KcRigx_9leMH"
      },
      "outputs": [],
      "source": [
        "def continued_fraction(x, itr=1000):\n",
        "  value=0.0\n",
        "  for _ in range(itr):\n",
        "    value = 1/(2 * x + value)\n",
        "    return x + value"
      ]
    },
    {
      "cell_type": "code",
      "source": [
        "f_100 = continued_fraction(x=100)\n",
        "f_100"
      ],
      "metadata": {
        "colab": {
          "base_uri": "https://localhost:8080/"
        },
        "id": "vBbLM3R_1nnh",
        "outputId": "6379ad72-3acc-4478-8aea-dcde662b7584"
      },
      "execution_count": 2,
      "outputs": [
        {
          "output_type": "execute_result",
          "data": {
            "text/plain": [
              "100.005"
            ]
          },
          "metadata": {},
          "execution_count": 2
        }
      ]
    },
    {
      "cell_type": "markdown",
      "source": [
        "# Define a function to calculate the derivative"
      ],
      "metadata": {
        "id": "EUvaXCIqlw5Y"
      }
    },
    {
      "cell_type": "code",
      "source": [
        "def derivative(f, x, h=1e-5):\n",
        "  return (f(x+h)-f(x))/h"
      ],
      "metadata": {
        "id": "bP-buZuxl9M2"
      },
      "execution_count": 6,
      "outputs": []
    },
    {
      "cell_type": "code",
      "source": [
        "f_prim_100 = derivative(f=continued_fraction, x=100)"
      ],
      "metadata": {
        "id": "SnZvsIz1w4X4"
      },
      "execution_count": 7,
      "outputs": []
    },
    {
      "cell_type": "code",
      "source": [
        "f_prim_100"
      ],
      "metadata": {
        "id": "jCYYVV92xH6P",
        "colab": {
          "base_uri": "https://localhost:8080/"
        },
        "outputId": "56861946-2c46-4db4-c941-29ddad0f91c0"
      },
      "execution_count": 8,
      "outputs": [
        {
          "output_type": "execute_result",
          "data": {
            "text/plain": [
              "0.9999500008461836"
            ]
          },
          "metadata": {},
          "execution_count": 8
        }
      ]
    },
    {
      "cell_type": "markdown",
      "source": [
        "# Now calculate f(100) * f_prime(100)"
      ],
      "metadata": {
        "id": "9F6mU91kl-Ow"
      }
    },
    {
      "cell_type": "code",
      "source": [
        "f_100 * f_prim_100"
      ],
      "metadata": {
        "id": "rEMA63J6mINe",
        "colab": {
          "base_uri": "https://localhost:8080/"
        },
        "outputId": "ee5fa02d-00f4-4420-86cd-0c28bff7783e"
      },
      "execution_count": 9,
      "outputs": [
        {
          "output_type": "execute_result",
          "data": {
            "text/plain": [
              "99.99999983462259"
            ]
          },
          "metadata": {},
          "execution_count": 9
        }
      ]
    },
    {
      "cell_type": "code",
      "source": [],
      "metadata": {
        "id": "r1ujomMtxaxI"
      },
      "execution_count": null,
      "outputs": []
    }
  ]
}